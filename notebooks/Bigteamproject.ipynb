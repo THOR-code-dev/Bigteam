{
 "cells": [
  {
   "cell_type": "code",
   "execution_count": 1,
   "id": "16076d2a-60a5-475e-bdf0-365db37814c9",
   "metadata": {},
   "outputs": [],
   "source": [
    "import pandas as pd, numpy as np\n",
    "import matplotlib.pyplot as plt, seaborn as sns\n",
    "sns.set_palette(\"husl\"); plt.style.use('seaborn-v0_8')"
   ]
  },
  {
   "cell_type": "code",
   "execution_count": 2,
   "id": "25c9e329-4193-4185-ab22-64cc810900b4",
   "metadata": {},
   "outputs": [
    {
     "name": "stdout",
     "output_type": "stream",
     "text": [
      "Train:   (2773805, 9)\n",
      "Users:   (38392, 4)\n",
      "Products:(648331, 4)\n"
     ]
    },
    {
     "data": {
      "text/html": [
       "<div>\n",
       "<style scoped>\n",
       "    .dataframe tbody tr th:only-of-type {\n",
       "        vertical-align: middle;\n",
       "    }\n",
       "\n",
       "    .dataframe tbody tr th {\n",
       "        vertical-align: top;\n",
       "    }\n",
       "\n",
       "    .dataframe thead th {\n",
       "        text-align: right;\n",
       "    }\n",
       "</style>\n",
       "<table border=\"1\" class=\"dataframe\">\n",
       "  <thead>\n",
       "    <tr style=\"text-align: right;\">\n",
       "      <th></th>\n",
       "      <th>ts_hour</th>\n",
       "      <th>search_term_normalized</th>\n",
       "      <th>clicked</th>\n",
       "      <th>ordered</th>\n",
       "      <th>added_to_cart</th>\n",
       "      <th>added_to_fav</th>\n",
       "      <th>user_id_hashed</th>\n",
       "      <th>content_id_hashed</th>\n",
       "      <th>session_id</th>\n",
       "    </tr>\n",
       "  </thead>\n",
       "  <tbody>\n",
       "    <tr>\n",
       "      <th>0</th>\n",
       "      <td>2025-07-10 17:00:00+00:00</td>\n",
       "      <td>a_elbise_kesim</td>\n",
       "      <td>1</td>\n",
       "      <td>0</td>\n",
       "      <td>0</td>\n",
       "      <td>0</td>\n",
       "      <td>1be4d2dad45a5e01</td>\n",
       "      <td>ae9b536d26e602f4</td>\n",
       "      <td>train_4fd3705b497bbe4f</td>\n",
       "    </tr>\n",
       "    <tr>\n",
       "      <th>1</th>\n",
       "      <td>2025-07-10 17:00:00+00:00</td>\n",
       "      <td>a_elbise_kesim</td>\n",
       "      <td>0</td>\n",
       "      <td>0</td>\n",
       "      <td>0</td>\n",
       "      <td>0</td>\n",
       "      <td>1be4d2dad45a5e01</td>\n",
       "      <td>91b8a11e4c8e0ded</td>\n",
       "      <td>train_4fd3705b497bbe4f</td>\n",
       "    </tr>\n",
       "    <tr>\n",
       "      <th>2</th>\n",
       "      <td>2025-07-10 17:00:00+00:00</td>\n",
       "      <td>a_elbise_kesim</td>\n",
       "      <td>0</td>\n",
       "      <td>0</td>\n",
       "      <td>0</td>\n",
       "      <td>0</td>\n",
       "      <td>1be4d2dad45a5e01</td>\n",
       "      <td>1a78e29f4bcc58b0</td>\n",
       "      <td>train_4fd3705b497bbe4f</td>\n",
       "    </tr>\n",
       "    <tr>\n",
       "      <th>3</th>\n",
       "      <td>2025-07-10 17:00:00+00:00</td>\n",
       "      <td>a_elbise_kesim</td>\n",
       "      <td>0</td>\n",
       "      <td>0</td>\n",
       "      <td>0</td>\n",
       "      <td>0</td>\n",
       "      <td>1be4d2dad45a5e01</td>\n",
       "      <td>604a4c8b13d798a4</td>\n",
       "      <td>train_4fd3705b497bbe4f</td>\n",
       "    </tr>\n",
       "    <tr>\n",
       "      <th>4</th>\n",
       "      <td>2025-07-10 17:00:00+00:00</td>\n",
       "      <td>a_elbise_kesim</td>\n",
       "      <td>0</td>\n",
       "      <td>0</td>\n",
       "      <td>0</td>\n",
       "      <td>0</td>\n",
       "      <td>1be4d2dad45a5e01</td>\n",
       "      <td>038680d15f693ae2</td>\n",
       "      <td>train_4fd3705b497bbe4f</td>\n",
       "    </tr>\n",
       "  </tbody>\n",
       "</table>\n",
       "</div>"
      ],
      "text/plain": [
       "                    ts_hour search_term_normalized  clicked  ordered  \\\n",
       "0 2025-07-10 17:00:00+00:00         a_elbise_kesim        1        0   \n",
       "1 2025-07-10 17:00:00+00:00         a_elbise_kesim        0        0   \n",
       "2 2025-07-10 17:00:00+00:00         a_elbise_kesim        0        0   \n",
       "3 2025-07-10 17:00:00+00:00         a_elbise_kesim        0        0   \n",
       "4 2025-07-10 17:00:00+00:00         a_elbise_kesim        0        0   \n",
       "\n",
       "   added_to_cart  added_to_fav    user_id_hashed content_id_hashed  \\\n",
       "0              0             0  1be4d2dad45a5e01  ae9b536d26e602f4   \n",
       "1              0             0  1be4d2dad45a5e01  91b8a11e4c8e0ded   \n",
       "2              0             0  1be4d2dad45a5e01  1a78e29f4bcc58b0   \n",
       "3              0             0  1be4d2dad45a5e01  604a4c8b13d798a4   \n",
       "4              0             0  1be4d2dad45a5e01  038680d15f693ae2   \n",
       "\n",
       "               session_id  \n",
       "0  train_4fd3705b497bbe4f  \n",
       "1  train_4fd3705b497bbe4f  \n",
       "2  train_4fd3705b497bbe4f  \n",
       "3  train_4fd3705b497bbe4f  \n",
       "4  train_4fd3705b497bbe4f  "
      ]
     },
     "execution_count": 2,
     "metadata": {},
     "output_type": "execute_result"
    }
   ],
   "source": [
    "RAW = r\"E:/Bigteam/Project/Trendyol-Datathon-2025/raw_data/\"\n",
    "train    = pd.read_parquet(RAW + \"train_data.parquet\")\n",
    "users    = pd.read_parquet(RAW + \"user_data.parquet\")\n",
    "products = pd.read_parquet(RAW + \"product_data.parquet\")\n",
    "\n",
    "print(f\"Train:   {train.shape}\")\n",
    "print(f\"Users:   {users.shape}\")\n",
    "print(f\"Products:{products.shape}\")\n",
    "train.head()"
   ]
  },
  {
   "cell_type": "code",
   "execution_count": 3,
   "id": "dd5f6c17-0981-4d37-9a5c-9e2083112bba",
   "metadata": {},
   "outputs": [
    {
     "name": "stdout",
     "output_type": "stream",
     "text": [
      "\n",
      "=== TRAIN ===\n",
      "<class 'pandas.core.frame.DataFrame'>\n",
      "RangeIndex: 2773805 entries, 0 to 2773804\n",
      "Data columns (total 9 columns):\n",
      " #   Column                  Dtype              \n",
      "---  ------                  -----              \n",
      " 0   ts_hour                 datetime64[us, UTC]\n",
      " 1   search_term_normalized  object             \n",
      " 2   clicked                 int64              \n",
      " 3   ordered                 int64              \n",
      " 4   added_to_cart           int64              \n",
      " 5   added_to_fav            int64              \n",
      " 6   user_id_hashed          object             \n",
      " 7   content_id_hashed       object             \n",
      " 8   session_id              object             \n",
      "dtypes: datetime64[us, UTC](1), int64(4), object(4)\n",
      "memory usage: 796.2 MB\n"
     ]
    },
    {
     "data": {
      "text/plain": [
       "None"
      ]
     },
     "metadata": {},
     "output_type": "display_data"
    },
    {
     "data": {
      "text/plain": [
       "Series([], dtype: int64)"
      ]
     },
     "metadata": {},
     "output_type": "display_data"
    },
    {
     "name": "stdout",
     "output_type": "stream",
     "text": [
      "\n",
      "=== USERS ===\n",
      "<class 'pandas.core.frame.DataFrame'>\n",
      "RangeIndex: 38392 entries, 0 to 38391\n",
      "Data columns (total 4 columns):\n",
      " #   Column               Non-Null Count  Dtype  \n",
      "---  ------               --------------  -----  \n",
      " 0   user_gender          38392 non-null  object \n",
      " 1   user_birth_year      15572 non-null  float64\n",
      " 2   user_tenure_in_days  38392 non-null  int64  \n",
      " 3   user_id_hashed       38392 non-null  object \n",
      "dtypes: float64(1), int64(1), object(2)\n",
      "memory usage: 5.0 MB\n"
     ]
    },
    {
     "data": {
      "text/plain": [
       "None"
      ]
     },
     "metadata": {},
     "output_type": "display_data"
    },
    {
     "data": {
      "text/plain": [
       "user_birth_year    22820\n",
       "dtype: int64"
      ]
     },
     "metadata": {},
     "output_type": "display_data"
    },
    {
     "name": "stdout",
     "output_type": "stream",
     "text": [
      "\n",
      "=== PRODUCTS ===\n",
      "<class 'pandas.core.frame.DataFrame'>\n",
      "RangeIndex: 648331 entries, 0 to 648330\n",
      "Data columns (total 4 columns):\n",
      " #   Column                   Non-Null Count   Dtype              \n",
      "---  ------                   --------------   -----              \n",
      " 0   ts_hour                  648331 non-null  datetime64[us, UTC]\n",
      " 1   search_term_normalized   648331 non-null  object             \n",
      " 2   total_search_impression  648331 non-null  float64            \n",
      " 3   total_search_click       648331 non-null  float64            \n",
      "dtypes: datetime64[us, UTC](1), float64(2), object(1)\n",
      "memory usage: 53.7 MB\n"
     ]
    },
    {
     "data": {
      "text/plain": [
       "None"
      ]
     },
     "metadata": {},
     "output_type": "display_data"
    },
    {
     "data": {
      "text/plain": [
       "Series([], dtype: int64)"
      ]
     },
     "metadata": {},
     "output_type": "display_data"
    }
   ],
   "source": [
    "def info(df, name):\n",
    "    print(f\"\\n=== {name} ===\")\n",
    "    display(df.info(memory_usage='deep'))\n",
    "    display(df.isnull().sum().loc[lambda s: s>0])\n",
    "\n",
    "info(train,    \"TRAIN\")\n",
    "info(users,    \"USERS\")\n",
    "info(products, \"PRODUCTS\")"
   ]
  },
  {
   "cell_type": "code",
   "execution_count": 4,
   "id": "fc1cf6e7-a18f-43e8-9e2e-aefb7e8c7548",
   "metadata": {},
   "outputs": [
    {
     "name": "stdout",
     "output_type": "stream",
     "text": [
      "Tıklama oranı  : 3.58%\n",
      "Satın alma oranı: 0.31%\n",
      "Dönüşüm oranı  : 8.60%\n"
     ]
    }
   ],
   "source": [
    "total     = len(train)\n",
    "clicks    = train['clicked'].sum()\n",
    "orders    = train['ordered'].sum()\n",
    "\n",
    "print(f\"Tıklama oranı  : {clicks/total:.2%}\")\n",
    "print(f\"Satın alma oranı: {orders/total:.2%}\")\n",
    "if clicks:\n",
    "    print(f\"Dönüşüm oranı  : {orders/clicks:.2%}\")"
   ]
  },
  {
   "cell_type": "code",
   "execution_count": 5,
   "id": "d4b6900d-4279-4fde-8d42-8b0d8b34be69",
   "metadata": {},
   "outputs": [
    {
     "data": {
      "image/png": "[encoded data removed]",
      "text/plain": [
       "<Figure size 1000x400 with 2 Axes>"
      ]
     },
     "metadata": {},
     "output_type": "display_data"
    }
   ],
   "source": [
    "fig, ax = plt.subplots(1,2, figsize=(10,4))\n",
    "train['clicked'].value_counts().plot(kind='bar', ax=ax[0], title='Clicked')\n",
    "train['ordered'].value_counts().plot(kind='bar', ax=ax[1], title='Ordered')\n",
    "plt.tight_layout(); plt.show()"
   ]
  }
 ],
 "metadata": {
  "kernelspec": {
   "display_name": "Python 3",
   "language": "python",
   "name": "python3"
  },
  "language_info": {
   "codemirror_mode": {
    "name": "ipython",
    "version": 3
   },
   "file_extension": ".py",
   "mimetype": "text/x-python",
   "name": "python",
   "nbconvert_exporter": "python",
   "pygments_lexer": "ipython3",
   "version": "3.12.6"
  }
 },
 "nbformat": 4,
 "nbformat_minor": 5
}
